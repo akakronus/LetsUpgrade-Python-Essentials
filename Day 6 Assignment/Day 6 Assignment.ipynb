{
 "cells": [
  {
   "cell_type": "code",
   "execution_count": 2,
   "metadata": {},
   "outputs": [
    {
     "name": "stdout",
     "output_type": "stream",
     "text": [
      "Account owner: Anurag\n",
      "Account balance: ₹1000\n",
      "Deposit Accepted, your balance is 1500\n",
      "Withdrawal Accepted, your balance is 750\n",
      "Funds Unavailable!\n"
     ]
    }
   ],
   "source": [
    "#Q1.\n",
    "\n",
    "class Account:\n",
    "    \n",
    "    def __init__(self, owner, balance):\n",
    "        self.owner = owner\n",
    "        self.balance = balance\n",
    "    \n",
    "    def __str__(self):\n",
    "        return 'Account owner: {owner}\\nAccount balance: ₹{balance}'.format(owner=self.owner, balance=self.balance)\n",
    "        \n",
    "    def deposit(self, dp_money):\n",
    "        self.balance += dp_money\n",
    "        print('Deposit Accepted, your balance is {balance}'.format(balance=self.balance))\n",
    "    \n",
    "    def withdraw(self, wd_money):\n",
    "        if wd_money > self.balance:\n",
    "            print('Funds Unavailable!')\n",
    "        else:\n",
    "            self.balance -= wd_money\n",
    "            print('Withdrawal Accepted, your balance is {balance}'.format(balance=self.balance))\n",
    "            \n",
    "acct1 = Account('Anurag',1000)\n",
    "print(acct1)\n",
    "\n",
    "acct1.deposit(500)\n",
    "acct1.withdraw(750)\n",
    "acct1.withdraw(5000)"
   ]
  },
  {
   "cell_type": "code",
   "execution_count": 25,
   "metadata": {},
   "outputs": [
    {
     "name": "stdout",
     "output_type": "stream",
     "text": [
      "314.15926535897927\n",
      "94.24777960769379\n"
     ]
    }
   ],
   "source": [
    "#Q2.\n",
    "\n",
    "import math\n",
    "pi=math.pi\n",
    "\n",
    "class Cone:\n",
    "    \n",
    "    def __init__(self, r, h):\n",
    "        self.r = r\n",
    "        self.h = h\n",
    "     \n",
    "    def volume(self): \n",
    "        return (1 / 3) * pi * self.r * self.r * self.h \n",
    "        \n",
    "    def surfacearea(self):\n",
    "        return pi * self.r * (self.r + 1)\n",
    "        \n",
    "cone1= Cone(5,12)\n",
    "\n",
    "print(cone1.volume())\n",
    "print(cone1.surfacearea())"
   ]
  }
 ],
 "metadata": {
  "kernelspec": {
   "display_name": "Python 3",
   "language": "python",
   "name": "python3"
  },
  "language_info": {
   "codemirror_mode": {
    "name": "ipython",
    "version": 3
   },
   "file_extension": ".py",
   "mimetype": "text/x-python",
   "name": "python",
   "nbconvert_exporter": "python",
   "pygments_lexer": "ipython3",
   "version": "3.8.3"
  }
 },
 "nbformat": 4,
 "nbformat_minor": 4
}
